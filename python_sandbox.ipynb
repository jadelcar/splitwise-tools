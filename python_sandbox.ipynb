{
 "cells": [
  {
   "cell_type": "code",
   "execution_count": 1,
   "metadata": {},
   "outputs": [],
   "source": [
    "import pandas as pd\n",
    "from classes import *\n"
   ]
  },
  {
   "cell_type": "code",
   "execution_count": 7,
   "metadata": {},
   "outputs": [
    {
     "name": "stdout",
     "output_type": "stream",
     "text": [
      "{'orig_name': 'Javier', 'candidates': [{'id': <class 'int'>, 'name': <class 'str'>}], 'final_id': 1001, 'final_name': 'Javiero', 'correct': True}\n",
      "<class 'int'>\n"
     ]
    }
   ],
   "source": [
    "\n",
    "app_current_user = {'name' : \"Javier\"}\n",
    "\n",
    "j = UpMember(\"Javier\", 1001,\"Javiero\",True)\n",
    "x = UpMember(\"Xian\", 1005,\"Xiano\",True)\n",
    "print(j.__dict__)\n",
    "print(j.candidates[0]['id'])\n"
   ]
  },
  {
   "cell_type": "code",
   "execution_count": 28,
   "metadata": {},
   "outputs": [
    {
     "name": "stdout",
     "output_type": "stream",
     "text": [
      "{'orig_name': 'Javier', 'candidates': [{'id': <class 'int'>, 'name': <class 'str'>}], 'final_id': 1001, 'final_name': 'Javiero', 'correct': True}\n",
      "{'orig_name': 'Xian', 'candidates': [{'id': <class 'int'>, 'name': <class 'str'>}], 'final_id': 1005, 'final_name': 'Xiano', 'correct': True}\n",
      "{'Javier': {'orig_name': 'Javier', 'final_id': 1001, 'final_name': 'Javiero'}, 'Xian': {'orig_name': 'Xian', 'final_id': 1005, 'final_name': 'Xiano'}}\n",
      "Javiero\n",
      "Xiano\n"
     ]
    }
   ],
   "source": [
    "\n",
    "up_users = {\n",
    "    'Javier' : j,\n",
    "    'Xian' : x\n",
    "}\n",
    "\n",
    "users_raw = {}\n",
    "for user in up_users:\n",
    "    # print(up_users[user])\n",
    "    # print(up_users[user].__dict__)\n",
    "    todict = vars(up_users[user])\n",
    "    obj = up_users[user]\n",
    "    print(todict)\n",
    "    users_raw[user] = {\n",
    "        'orig_name' : obj.orig_name,\n",
    "        'final_id' : obj.final_id,\n",
    "        'final_name' : obj.final_name\n",
    "        }\n",
    "\n",
    "print(users_raw)\n",
    "for raw_user in users_raw:\n",
    "    print(users_raw[raw_user]['final_name'])\n"
   ]
  }
 ],
 "metadata": {
  "kernelspec": {
   "display_name": "Python 3.8.10 ('env': venv)",
   "language": "python",
   "name": "python3"
  },
  "language_info": {
   "codemirror_mode": {
    "name": "ipython",
    "version": 3
   },
   "file_extension": ".py",
   "mimetype": "text/x-python",
   "name": "python",
   "nbconvert_exporter": "python",
   "pygments_lexer": "ipython3",
   "version": "3.8.10"
  },
  "orig_nbformat": 4,
  "vscode": {
   "interpreter": {
    "hash": "67c2f2ab1194a2ce5dc55ac091306ada3564747ceba09109645ab8343636acba"
   }
  }
 },
 "nbformat": 4,
 "nbformat_minor": 2
}
